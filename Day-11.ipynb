{
 "cells": [
  {
   "cell_type": "code",
   "execution_count": 13,
   "id": "5920d40e-ca78-48cf-97c9-bc3238a7fe12",
   "metadata": {},
   "outputs": [
    {
     "name": "stdout",
     "output_type": "stream",
     "text": [
      "Rows where sales are greater than 1000:\n",
      "          Date     Product Region    Sales  Profit  Quantity\n",
      "0   2023-01-02      Tablet   East  1061.81  236.12         7\n",
      "1   2023-01-06      Laptop  North  1926.07  246.34         8\n",
      "2   2023-01-03      Tablet   East  1597.99  253.17         3\n",
      "3   2023-01-20      Tablet  North  1397.99  242.23         1\n",
      "7   2023-01-07  Smartphone   East  1799.26  364.97         4\n",
      "8   2023-01-11  Smartphone   West  1401.67  306.24         2\n",
      "9   2023-01-01      Laptop  North  1562.11  170.72         6\n",
      "11  2023-01-12      Laptop   West  1954.86  262.16         4\n",
      "12  2023-01-09     Monitor  North  1748.66  197.62         6\n",
      "17  2023-01-18     Monitor   West  1287.13  153.86         7\n",
      "18  2023-01-13      Tablet   West  1147.92  271.88         9\n",
      "\n",
      "Sales records for the 'East' region:\n",
      "          Date     Product Region    Sales  Profit  Quantity\n",
      "0   2023-01-02      Tablet   East  1061.81  236.12         7\n",
      "2   2023-01-03      Tablet   East  1597.99  253.17         3\n",
      "6   2023-01-14    Keyboard   East   587.13   82.16         8\n",
      "7   2023-01-07  Smartphone   East  1799.26  364.97         4\n",
      "14  2023-01-08      Laptop   East   772.74  226.51         2\n",
      "\n",
      "Dataset with Profit_Per_Unit column added:\n",
      "         Date Product Region    Sales  Profit  Quantity  Profit_Per_Unit\n",
      "0  2023-01-02  Tablet   East  1061.81  236.12         7        33.731429\n",
      "1  2023-01-06  Laptop  North  1926.07  246.34         8        30.792500\n",
      "2  2023-01-03  Tablet   East  1597.99  253.17         3        84.390000\n",
      "3  2023-01-20  Tablet  North  1397.99  242.23         1       242.230000\n",
      "4  2023-01-04  Laptop   West   734.03  140.36         4        35.090000\n",
      "\n",
      "Dataset with High_Sales column added:\n",
      "         Date Product Region    Sales  Profit  Quantity  Profit_Per_Unit  \\\n",
      "0  2023-01-02  Tablet   East  1061.81  236.12         7        33.731429   \n",
      "1  2023-01-06  Laptop  North  1926.07  246.34         8        30.792500   \n",
      "2  2023-01-03  Tablet   East  1597.99  253.17         3        84.390000   \n",
      "3  2023-01-20  Tablet  North  1397.99  242.23         1       242.230000   \n",
      "4  2023-01-04  Laptop   West   734.03  140.36         4        35.090000   \n",
      "\n",
      "  High_Sales  \n",
      "0        Yes  \n",
      "1        Yes  \n",
      "2        Yes  \n",
      "3        Yes  \n",
      "4         No  \n"
     ]
    }
   ],
   "source": [
    "import pandas as pd\n",
    "\n",
    "# Load the dataset from the specified file path\n",
    "file_path = 'Day_8_sales_data.csv'\n",
    "data = pd.read_csv(file_path)\n",
    "\n",
    "# Data Filtering\n",
    "# Extract all rows where sales are greater than 1000\n",
    "filtered_data = data[data['Sales'] > 1000]\n",
    "print(\"Rows where sales are greater than 1000:\")\n",
    "print(filtered_data)\n",
    "\n",
    "# Find all sales records for a specific region (e.g., \"East\")\n",
    "region_sales = data[data['Region'] == 'East']\n",
    "print(\"\\nSales records for the 'East' region:\")\n",
    "print(region_sales)\n",
    "\n",
    "# Data Processing\n",
    "# Add a new column, Profit_Per_Unit, calculated as Profit / Quantity\n",
    "data['Profit_Per_Unit'] = data['Profit'] / data['Quantity']\n",
    "print(\"\\nDataset with Profit_Per_Unit column added:\")\n",
    "print(data.head())\n",
    "\n",
    "# Create another column, High_Sales, which labels rows as Yes if Sales > 1000, else No\n",
    "data['High_Sales'] = data['Sales'].apply(lambda x: 'Yes' if x > 1000 else 'No')\n",
    "print(\"\\nDataset with High_Sales column added:\")\n",
    "print(data.head())\n"
   ]
  },
  {
   "cell_type": "code",
   "execution_count": null,
   "id": "0d993ffe-8e79-4e9e-ba65-0a44d93e5e1f",
   "metadata": {},
   "outputs": [],
   "source": []
  }
 ],
 "metadata": {
  "kernelspec": {
   "display_name": "Python [conda env:base] *",
   "language": "python",
   "name": "conda-base-py"
  },
  "language_info": {
   "codemirror_mode": {
    "name": "ipython",
    "version": 3
   },
   "file_extension": ".py",
   "mimetype": "text/x-python",
   "name": "python",
   "nbconvert_exporter": "python",
   "pygments_lexer": "ipython3",
   "version": "3.12.7"
  }
 },
 "nbformat": 4,
 "nbformat_minor": 5
}
