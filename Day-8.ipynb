{
 "cells": [
  {
   "cell_type": "code",
   "execution_count": null,
   "id": "64d61e1c-00eb-428c-b1bc-851d98192998",
   "metadata": {},
   "outputs": [],
   "source": [
    "import numpy as nm\n",
    "import matplotlib.pyplot as mtp\n",
    "import pandas as pd\n",
    "data_set = pd.read_csv('Day_7_sales_data.csv')\n",
    "x = data_set.iloc[:, :-1].values\n",
    "y = data_set.iloc[:, 1].values\n",
    "from sklearn.model_selection import train_test_split\n",
    "x_train, x_test, y_train, y_test = train_test_split(x, y, test_size=1/3, random_state=0)\n",
    "from sklearn.linear_model import LinearRegression\n",
    "regressor = LinearRegression()\n",
    "regressor.fit(x_train, y_train)\n",
    "y_pred = regressor.predict(x_test)\n",
    "x_pred = regressor.predict(x_train)\n",
    "mtp.scatter(x_train, y_train, color=\"green\")\n",
    "mtp.plot(x_train, x_pred, color=\"red\")\n",
    "mtp.title(\"Salary vs Experience (Training Dataset)\")\n",
    "mtp.xlabel(\"Years of Experience\")\n",
    "mtp.ylabel(\"Salary (In Rupees)\")\n",
    "mtp.show()\n",
    "mtp.scatter(x_test, y_test, color=\"blue\")\n",
    "mtp.plot(x_train, x_pred, color=\"red\")\n",
    "mtp.title(\"Salary vs Experience (Test Dataset)\")\n",
    "mtp.xlabel(\"Years of Experience\")\n",
    "mtp.ylabel(\"Salary (In Rupees)\")\n",
    "mtp.show()\n"
   ]
  }
 ],
 "metadata": {
  "kernelspec": {
   "display_name": "Python [conda env:base] *",
   "language": "python",
   "name": "conda-base-py"
  },
  "language_info": {
   "codemirror_mode": {
    "name": "ipython",
    "version": 3
   },
   "file_extension": ".py",
   "mimetype": "text/x-python",
   "name": "python",
   "nbconvert_exporter": "python",
   "pygments_lexer": "ipython3",
   "version": "3.12.7"
  }
 },
 "nbformat": 4,
 "nbformat_minor": 5
}
