{
 "cells": [
  {
   "cell_type": "code",
   "execution_count": 1,
   "id": "64d61e1c-00eb-428c-b1bc-851d98192998",
   "metadata": {},
   "outputs": [
    {
     "name": "stdout",
     "output_type": "stream",
     "text": [
      "Rows with Sales > 1000:\n",
      "  Region  Sales  Profit  Quantity\n",
      "0   East   1500     300        10\n",
      "2   East   1200     240        15\n",
      "4  North   2000     400        20\n",
      "\n",
      "Sales records for 'East' region:\n",
      "  Region  Sales  Profit  Quantity\n",
      "0   East   1500     300        10\n",
      "2   East   1200     240        15\n",
      "\n",
      "Updated DataFrame:\n",
      "  Region  Sales  Profit  Quantity  Profit_Per_Unit High_Sales\n",
      "0   East   1500     300        10             30.0        Yes\n",
      "1   West    800      50         5             10.0         No\n",
      "2   East   1200     240        15             16.0        Yes\n",
      "3  South    600      40         4             10.0         No\n",
      "4  North   2000     400        20             20.0        Yes\n"
     ]
    }
   ],
   "source": [
    "import pandas as pd\n",
    "\n",
    "# Example DataFrame\n",
    "data = {\n",
    "    'Region': ['East', 'West', 'East', 'South', 'North'],\n",
    "    'Sales': [1500, 800, 1200, 600, 2000],\n",
    "    'Profit': [300, 50, 240, 40, 400],\n",
    "    'Quantity': [10, 5, 15, 4, 20]\n",
    "}\n",
    "df = pd.DataFrame(data)\n",
    "\n",
    "# Data Filtering: Extract rows where Sales > 1000\n",
    "sales_greater_1000 = df[df['Sales'] > 1000]\n",
    "\n",
    "# Data Filtering: Find sales records for a specific region (e.g., \"East\")\n",
    "east_region_sales = df[df['Region'] == 'East']\n",
    "\n",
    "# Data Processing: Add a new column, Profit_Per_Unit\n",
    "df['Profit_Per_Unit'] = df['Profit'] / df['Quantity']\n",
    "\n",
    "# Data Processing: Create a new column, High_Sales\n",
    "df['High_Sales'] = df['Sales'].apply(lambda x: 'Yes' if x > 1000 else 'No')\n",
    "\n",
    "# Results\n",
    "print(\"Rows with Sales > 1000:\")\n",
    "print(sales_greater_1000)\n",
    "print(\"\\nSales records for 'East' region:\")\n",
    "print(east_region_sales)\n",
    "print(\"\\nUpdated DataFrame:\")\n",
    "print(df)\n"
   ]
  },
  {
   "cell_type": "code",
   "execution_count": null,
   "id": "f7712231-94db-4a4f-bff7-f96b1e855922",
   "metadata": {},
   "outputs": [],
   "source": []
  }
 ],
 "metadata": {
  "kernelspec": {
   "display_name": "Python [conda env:base] *",
   "language": "python",
   "name": "conda-base-py"
  },
  "language_info": {
   "codemirror_mode": {
    "name": "ipython",
    "version": 3
   },
   "file_extension": ".py",
   "mimetype": "text/x-python",
   "name": "python",
   "nbconvert_exporter": "python",
   "pygments_lexer": "ipython3",
   "version": "3.12.7"
  }
 },
 "nbformat": 4,
 "nbformat_minor": 5
}
